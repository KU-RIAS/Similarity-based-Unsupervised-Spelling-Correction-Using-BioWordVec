{
 "cells": [
  {
   "cell_type": "markdown",
   "metadata": {},
   "source": [
    "# CDM_SymSpell"
   ]
  },
  {
   "cell_type": "code",
   "execution_count": 1,
   "metadata": {},
   "outputs": [],
   "source": [
    "# -*- coding: utf-8 -*-\n",
    "\n",
    "\"\"\"\n",
    "\n",
    "@ author: Taehyeong Kim\n",
    "@ e-mail: taehyeong93@korea.ac.kr\n",
    "\n",
    "\"\"\"\n",
    "\n",
    "import utils.preprocessing\n",
    "from symspellpy.symspellpy import SymSpell\n",
    "\n",
    "import pandas as pd\n",
    "from keras.preprocessing.text import text_to_word_sequence\n",
    "\n",
    "import warnings\n",
    "warnings.filterwarnings(\"ignore\")"
   ]
  },
  {
   "cell_type": "code",
   "execution_count": 2,
   "metadata": {},
   "outputs": [
    {
     "name": "stdout",
     "output_type": "stream",
     "text": [
      "--- Preprocessing ---\n",
      "Organism count:27544\n",
      "Stop words:['ss', 'spp', 'ssp', 'mrsa', 'mssa', 'group']\n"
     ]
    }
   ],
   "source": [
    "# Data read\n",
    "df = pd.read_csv(\"data/sample data.csv\", encoding = \"CP949\")\n",
    "# Column Name Transform, Missing Value Remove, Lowercase, Organism Check, remove hangul\n",
    "df = utils.preprocessing.Preprocessing().organ_result(df)\n",
    "\n",
    "def organ_extract(df):\n",
    "    \n",
    "    temp=[]\n",
    "    \n",
    "    for _ in range(len(df)):\n",
    "        \n",
    "        if ':' in df.iat[_][0]:\n",
    "            temp.append(df.iat[_][0].split(\":\")[1].strip())\n",
    "        if ';' in df.iat[_][0]:\n",
    "            temp.append(df.iat[_][0].split(\";\")[1].strip())\n",
    "            \n",
    "    return temp\n",
    "\n",
    "organ_list = organ_extract(df[\"organ_result\"])\n",
    "organ_list = [x for x in organ_list if x]\n",
    "\n",
    "organ_check = sorted(list(set(organ_list)))\n",
    "# pd.Series(organ_check).to_csv(\"organ_check.csv\", index = False, header=False, encoding = \"CP949\")\n",
    "\n",
    "print(\"Organism count:\" + str(len(organ_list)))\n",
    "\n",
    "stop_words=[\"ss\",\"spp\",\"ssp\",\"mrsa\",\"mssa\",\"group\"]\n",
    "print(\"Stop words:\" + str(stop_words))"
   ]
  },
  {
   "cell_type": "markdown",
   "metadata": {},
   "source": [
    "### 1. Extraction of data using regular expression"
   ]
  },
  {
   "cell_type": "code",
   "execution_count": 3,
   "metadata": {},
   "outputs": [],
   "source": [
    "# Word\n",
    "organ_word=[]\n",
    "for _ in range(len(organ_list)):\n",
    "    \n",
    "    temp_words = text_to_word_sequence(organ_list[_]) #Tokenizer\n",
    "    \n",
    "    for _ in temp_words:\n",
    "        if _ not in stop_words:\n",
    "            if len(_)>3:\n",
    "                organ_word.append(_)\n",
    "                \n",
    "# Sentence\n",
    "organ_sentence=[]\n",
    "for _ in range(len(organ_list)):\n",
    "    \n",
    "    temp_token=[]\n",
    "    temp_words = text_to_word_sequence(organ_list[_]) #Tokenizer\n",
    "    \n",
    "    for _ in temp_words:\n",
    "        if _ not in stop_words:\n",
    "            if len(_)>3:\n",
    "                temp_token.append(_)\n",
    "                \n",
    "    organ_sentence.append(temp_token)\n",
    "\n",
    "for _ in range(len(organ_sentence)):\n",
    "    organ_sentence[_] =  \" \".join(organ_sentence[_])"
   ]
  },
  {
   "cell_type": "code",
   "execution_count": 4,
   "metadata": {},
   "outputs": [
    {
     "data": {
      "text/plain": [
       "320"
      ]
     },
     "execution_count": 4,
     "metadata": {},
     "output_type": "execute_result"
    }
   ],
   "source": [
    "organ_corpus = sorted(list(set(organ_word)))\n",
    "len(organ_corpus)"
   ]
  },
  {
   "cell_type": "markdown",
   "metadata": {},
   "source": [
    "### 2. Misspelling Detection"
   ]
  },
  {
   "cell_type": "code",
   "execution_count": 5,
   "metadata": {},
   "outputs": [
    {
     "data": {
      "text/plain": [
       "['adecarboxylate',\n",
       " 'chromogens',\n",
       " 'ferentum',\n",
       " 'flavbacterium',\n",
       " 'koneensis',\n",
       " 'ochrobacterium',\n",
       " 'orytihabitans',\n",
       " 'papatyphi',\n",
       " 'parpinfluenzae',\n",
       " 'pseudodiphthericum',\n",
       " 'shingobacterium',\n",
       " 'sstreptococcus',\n",
       " 'stacherbrandfii',\n",
       " 'stapylococcus',\n",
       " 'urealyticm',\n",
       " 'perosis']"
      ]
     },
     "execution_count": 5,
     "metadata": {},
     "output_type": "execute_result"
    }
   ],
   "source": [
    "dict_corpus=list(pd.read_csv(\"data/misspelling_detection.txt\", header=None)[0])\n",
    "misspell=sorted(list(set(organ_word)))\n",
    "for _ in dict_corpus:\n",
    "    if _ in misspell: \n",
    "        misspell.remove(_)\n",
    "\n",
    "misspell.remove(\"oneday\")\n",
    "misspell.remove(\"nonenterococci\")\n",
    "misspell.remove(\"nonenterococcus\")\n",
    "misspell.append(\"perosis\")\n",
    "misspell"
   ]
  },
  {
   "cell_type": "markdown",
   "metadata": {},
   "source": [
    "### 3. SymSpell"
   ]
  },
  {
   "cell_type": "code",
   "execution_count": 6,
   "metadata": {},
   "outputs": [
    {
     "name": "stdout",
     "output_type": "stream",
     "text": [
      "ad carboxylate, 1, 0\n",
      "chromogen, 1, 23952\n",
      "fere tum, 1, 0\n",
      "fla bacterium, 1, 0\n",
      "one ennis, 3, 902\n",
      "och bacterium, 2, 1\n",
      "orytihabitans, 0, 0\n",
      "papa phi, 2, 33\n",
      "par influenzae, 1, 0\n",
      "pseudodiphthericum, 0, 0\n",
      "thing bacterium, 2, 63\n",
      "streptococcus, 1, 832696\n",
      "stacherbrandfii, 0, 0\n",
      "staphylococcus, 1, 797144\n",
      "urea lytic, 2, 0\n",
      "persis, 1, 69405\n"
     ]
    }
   ],
   "source": [
    "sym_spell = SymSpell(max_dictionary_edit_distance=3)\n",
    "sym_spell.create_dictionary(\"data/Dorlands Dictionary of Medical Acronyms & Abbreviations.txt\", encoding=\"UTF-8\")\n",
    "sym_spell.load_dictionary(\"data/frequency_dictionary_en_82_765.txt\", 0, 1)\n",
    "\n",
    "for mis in misspell:\n",
    "    suggestions = sym_spell.lookup_compound(mis, max_edit_distance=1)\n",
    "    for suggestion in suggestions:\n",
    "        print(\"{}, {}, {}\".format(suggestion.term, suggestion.distance, suggestion.count))"
   ]
  },
  {
   "cell_type": "code",
   "execution_count": 7,
   "metadata": {},
   "outputs": [
    {
     "name": "stdout",
     "output_type": "stream",
     "text": [
      "Wall time: 11 s\n"
     ]
    },
    {
     "data": {
      "text/plain": [
       "313"
      ]
     },
     "execution_count": 7,
     "metadata": {},
     "output_type": "execute_result"
    }
   ],
   "source": [
    "%%time\n",
    "organ_rev=[]\n",
    "for mis in organ_corpus:\n",
    "    suggestions = sym_spell.lookup_compound(mis, max_edit_distance=3)\n",
    "    for suggestion in suggestions:\n",
    "        organ_rev.append(suggestion.term)\n",
    "        \n",
    "len(sorted(list(set(organ_rev))))"
   ]
  }
 ],
 "metadata": {
  "hide_input": false,
  "kernelspec": {
   "display_name": "Python 3",
   "language": "python",
   "name": "python3"
  },
  "language_info": {
   "codemirror_mode": {
    "name": "ipython",
    "version": 3
   },
   "file_extension": ".py",
   "mimetype": "text/x-python",
   "name": "python",
   "nbconvert_exporter": "python",
   "pygments_lexer": "ipython3",
   "version": "3.8.5"
  }
 },
 "nbformat": 4,
 "nbformat_minor": 2
}
