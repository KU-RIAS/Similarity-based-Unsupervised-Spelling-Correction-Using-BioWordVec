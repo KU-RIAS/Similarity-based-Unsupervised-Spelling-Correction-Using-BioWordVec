{
 "cells": [
  {
   "cell_type": "markdown",
   "metadata": {},
   "source": [
    "# CDM_SUSC"
   ]
  },
  {
   "cell_type": "code",
   "execution_count": 1,
   "metadata": {},
   "outputs": [],
   "source": [
    "# -*- coding: utf-8 -*-\n",
    "\n",
    "\"\"\"\n",
    "\n",
    "@ author: Taehyeong Kim, Fusion Data Analytics and Artificial Intelligence Lab\n",
    "\n",
    "\"\"\"\n",
    "\n",
    "import utils.preprocessing\n",
    "from gensim.models import FastText\n",
    "from pyxdameraulevenshtein import damerau_levenshtein_distance\n",
    "\n",
    "import collections\n",
    "import numpy as np\n",
    "import pandas as pd\n",
    "import re\n",
    "from keras.preprocessing.text import text_to_word_sequence\n",
    "\n",
    "import warnings\n",
    "warnings.filterwarnings(\"ignore\")"
   ]
  },
  {
   "cell_type": "code",
   "execution_count": 2,
   "metadata": {},
   "outputs": [
    {
     "name": "stdout",
     "output_type": "stream",
     "text": [
      "--- Preprocessing ---\n",
      "Organism count:27544\n",
      "Stop words:['ss', 'spp', 'ssp', 'mrsa', 'mssa', 'group']\n"
     ]
    }
   ],
   "source": [
    "# Data read\n",
    "df = pd.read_csv(\"data/sample data.csv\", encoding = \"CP949\")\n",
    "# Column Name Transform, Missing Value Remove, Lowercase, Organism Check, remove hangul\n",
    "df = utils.preprocessing.Preprocessing().organ_result(df)\n",
    "\n",
    "def organ_extract(df):\n",
    "    \n",
    "    temp=[]\n",
    "    \n",
    "    for _ in range(len(df)):\n",
    "        \n",
    "        if ':' in df.iat[_][0]:\n",
    "            temp.append(df.iat[_][0].split(\":\")[1].strip())\n",
    "        if ';' in df.iat[_][0]:\n",
    "            temp.append(df.iat[_][0].split(\";\")[1].strip())\n",
    "            \n",
    "    return temp\n",
    "\n",
    "organ_list = organ_extract(df[\"organ_result\"])\n",
    "organ_list = [x for x in organ_list if x]\n",
    "\n",
    "# organ_check = sorted(list(set(organ_list)))\n",
    "# pd.Series(organ_check).to_csv(\"Experiments/organ_check.csv\", index = False, header=False, encoding = \"CP949\")\n",
    "\n",
    "print(\"Organism count:\" + str(len(organ_list)))\n",
    "\n",
    "stop_words=[\"ss\",\"spp\",\"ssp\",\"mrsa\",\"mssa\",\"group\"]\n",
    "print(\"Stop words:\" + str(stop_words))"
   ]
  },
  {
   "cell_type": "markdown",
   "metadata": {},
   "source": [
    "### 1. Extraction of data using regular expression"
   ]
  },
  {
   "cell_type": "code",
   "execution_count": 3,
   "metadata": {},
   "outputs": [],
   "source": [
    "# Word\n",
    "organ_word=[]\n",
    "for _ in range(len(organ_list)):\n",
    "    \n",
    "    temp_words = text_to_word_sequence(organ_list[_]) #Tokenizer\n",
    "    \n",
    "    for _ in temp_words:\n",
    "        if _ not in stop_words:\n",
    "            if len(_)>3:\n",
    "                organ_word.append(_)\n",
    "                \n",
    "# Sentence\n",
    "organ_sentence=[]\n",
    "for _ in range(len(organ_list)):\n",
    "    \n",
    "    temp_token=[]\n",
    "    temp_words = text_to_word_sequence(organ_list[_]) #Tokenizer\n",
    "    \n",
    "    for _ in temp_words:\n",
    "        if _ not in stop_words:\n",
    "            if len(_)>3:\n",
    "                temp_token.append(_)\n",
    "                \n",
    "    organ_sentence.append(temp_token)\n",
    "\n",
    "for _ in range(len(organ_sentence)):\n",
    "    organ_sentence[_] =  \" \".join(organ_sentence[_])"
   ]
  },
  {
   "cell_type": "code",
   "execution_count": 4,
   "metadata": {},
   "outputs": [
    {
     "data": {
      "text/plain": [
       "320"
      ]
     },
     "execution_count": 4,
     "metadata": {},
     "output_type": "execute_result"
    }
   ],
   "source": [
    "organ_corpus = sorted(list(set(organ_word)))\n",
    "len(organ_corpus)"
   ]
  },
  {
   "cell_type": "markdown",
   "metadata": {},
   "source": [
    "### 2. Misspelling Detection"
   ]
  },
  {
   "cell_type": "code",
   "execution_count": 5,
   "metadata": {},
   "outputs": [
    {
     "data": {
      "text/plain": [
       "['adecarboxylate',\n",
       " 'chromogens',\n",
       " 'ferentum',\n",
       " 'flavbacterium',\n",
       " 'koneensis',\n",
       " 'ochrobacterium',\n",
       " 'orytihabitans',\n",
       " 'papatyphi',\n",
       " 'parpinfluenzae',\n",
       " 'pseudodiphthericum',\n",
       " 'shingobacterium',\n",
       " 'sstreptococcus',\n",
       " 'stacherbrandfii',\n",
       " 'stapylococcus',\n",
       " 'urealyticm',\n",
       " 'perosis']"
      ]
     },
     "execution_count": 5,
     "metadata": {},
     "output_type": "execute_result"
    }
   ],
   "source": [
    "dict_corpus=list(pd.read_csv(\"data/misspelling_detection.txt\", header=None)[0])\n",
    "misspell=sorted(list(set(organ_word)))\n",
    "for _ in dict_corpus:\n",
    "    if _ in misspell: \n",
    "        misspell.remove(_)\n",
    "\n",
    "misspell.remove('oneday')\n",
    "misspell.remove(\"nonenterococci\")\n",
    "misspell.remove(\"nonenterococcus\")\n",
    "misspell.append(\"perosis\")\n",
    "\n",
    "misspell"
   ]
  },
  {
   "cell_type": "code",
   "execution_count": 6,
   "metadata": {},
   "outputs": [
    {
     "data": {
      "text/plain": [
       "16"
      ]
     },
     "execution_count": 6,
     "metadata": {},
     "output_type": "execute_result"
    }
   ],
   "source": [
    "vocab_m={}\n",
    "for _ in misspell:\n",
    "    vocab_m[_]=organ_word.count(_)\n",
    "len(vocab_m)"
   ]
  },
  {
   "cell_type": "code",
   "execution_count": 7,
   "metadata": {},
   "outputs": [
    {
     "data": {
      "text/plain": [
       "304"
      ]
     },
     "execution_count": 7,
     "metadata": {},
     "output_type": "execute_result"
    }
   ],
   "source": [
    "vocab_c=collections.Counter(organ_word)\n",
    "for _ in misspell:\n",
    "    del vocab_c[_]\n",
    "len(vocab_c)"
   ]
  },
  {
   "cell_type": "markdown",
   "metadata": {},
   "source": [
    "### 4. BioWordVec"
   ]
  },
  {
   "cell_type": "code",
   "execution_count": 8,
   "metadata": {},
   "outputs": [],
   "source": [
    "# # Token\n",
    "\n",
    "# organ_token=[]\n",
    "\n",
    "# for _ in range(len(organ_list)):\n",
    "    \n",
    "#     temp_token=[]\n",
    "#     temp_words = text_to_word_sequence(organ_list[_]) #Tokenizer\n",
    "    \n",
    "#     for _ in temp_words:\n",
    "#         if _ not in stop_words:\n",
    "#             if len(_)>3:\n",
    "#                 temp_token.append(_)\n",
    "                \n",
    "#     organ_token.append(temp_token)\n",
    "               \n",
    "# organ_token"
   ]
  },
  {
   "cell_type": "code",
   "execution_count": 9,
   "metadata": {},
   "outputs": [],
   "source": [
    "# %%time\n",
    "# local_model = FastText(size=200, sg=1, min_count=1)\n",
    "# local_model.build_vocab(sentences=organ_token)\n",
    "# local_model.train(sentences=organ_token, total_examples=len(organ_token), epochs=200)\n",
    "# print(\"epochs: \" + str(local_model.epochs))"
   ]
  },
  {
   "cell_type": "code",
   "execution_count": 10,
   "metadata": {},
   "outputs": [
    {
     "name": "stdout",
     "output_type": "stream",
     "text": [
      "epochs: 5\n",
      "Wall time: 24min 29s\n"
     ]
    }
   ],
   "source": [
    "%%time\n",
    "bio_model = FastText.load_fasttext_format('./pretrained/BioWordVec_PubMed_MIMICIII_d200.bin')\n",
    "print(\"epochs: \" + str(bio_model.epochs))"
   ]
  },
  {
   "cell_type": "code",
   "execution_count": 11,
   "metadata": {},
   "outputs": [],
   "source": [
    "# %%time\n",
    "# bio_model.build_vocab(sentences=organ_token, update=True)\n",
    "# bio_model.train(organ_token, total_examples=len(organ_token), epochs=100)"
   ]
  },
  {
   "cell_type": "markdown",
   "metadata": {},
   "source": [
    "### 5. Unsupervised Dictionary"
   ]
  },
  {
   "cell_type": "code",
   "execution_count": 12,
   "metadata": {},
   "outputs": [
    {
     "name": "stdout",
     "output_type": "stream",
     "text": [
      "Wall time: 1min 9s\n"
     ]
    },
    {
     "data": {
      "text/plain": [
       "13"
      ]
     },
     "execution_count": 12,
     "metadata": {},
     "output_type": "execute_result"
    }
   ],
   "source": [
    "%%time\n",
    "\n",
    "similar_n=30\n",
    "fasttext_min_similarity = 0.80\n",
    "edit_distance_threshold = 3\n",
    "\n",
    "nonalphabetic = re.compile(r'[^a-zA-Z]')\n",
    "\n",
    "def include_spell_mistake(word, similar_word, score):\n",
    "    \n",
    "    return (score > fasttext_min_similarity \n",
    "            and damerau_levenshtein_distance(word, similar_word) <= edit_distance_threshold\n",
    "            and len(similar_word) > 3\n",
    "            and word[0] == similar_word[0]\n",
    "            and nonalphabetic.search(similar_word) is None)\n",
    "\n",
    "restrict_vocab_size = np.arange(100000,1000000,100000)\n",
    "rank=1\n",
    "\n",
    "word_to_mistakes = collections.defaultdict(list)\n",
    "for word, freq in vocab_m.items():\n",
    "        \n",
    "    if len(word) <= 3 or nonalphabetic.search(word) is not None:\n",
    "        continue\n",
    "    \n",
    "    for i in range(len(restrict_vocab_size)):\n",
    "        similar_pre = bio_model.wv.most_similar(word, topn=similar_n,\n",
    "                                                restrict_vocab=restrict_vocab_size[i])\n",
    "    \n",
    "        for similar_p in similar_pre:\n",
    "            if include_spell_mistake(word, similar_p[0], similar_p[1]) and len(word_to_mistakes[word])<rank:\n",
    "                word_to_mistakes[word].append(similar_p[0])\n",
    "            \n",
    "len(word_to_mistakes)"
   ]
  },
  {
   "cell_type": "code",
   "execution_count": 13,
   "metadata": {},
   "outputs": [
    {
     "data": {
      "text/plain": [
       "defaultdict(list,\n",
       "            {'adecarboxylate': ['adecarboxylata'],\n",
       "             'chromogens': ['chromogen'],\n",
       "             'flavbacterium': ['flavobacterium'],\n",
       "             'koneensis': ['koreensis'],\n",
       "             'ochrobacterium': ['ochrobactrum'],\n",
       "             'orytihabitans': ['oryzihabitans'],\n",
       "             'papatyphi': ['paratyphi'],\n",
       "             'parpinfluenzae': ['parainfluenzae'],\n",
       "             'pseudodiphthericum': ['pseudodiphtheriticum'],\n",
       "             'shingobacterium': ['sphingobacterium'],\n",
       "             'sstreptococcus': ['streptococcus'],\n",
       "             'stapylococcus': ['staphylococcus'],\n",
       "             'urealyticm': ['urealyticum']})"
      ]
     },
     "execution_count": 13,
     "metadata": {},
     "output_type": "execute_result"
    }
   ],
   "source": [
    "word_to_mistakes"
   ]
  },
  {
   "cell_type": "markdown",
   "metadata": {},
   "source": [
    "### 6. Similarity Score"
   ]
  },
  {
   "cell_type": "markdown",
   "metadata": {},
   "source": [
    "#### index"
   ]
  },
  {
   "cell_type": "code",
   "execution_count": 14,
   "metadata": {},
   "outputs": [
    {
     "data": {
      "text/html": [
       "<div>\n",
       "<style scoped>\n",
       "    .dataframe tbody tr th:only-of-type {\n",
       "        vertical-align: middle;\n",
       "    }\n",
       "\n",
       "    .dataframe tbody tr th {\n",
       "        vertical-align: top;\n",
       "    }\n",
       "\n",
       "    .dataframe thead th {\n",
       "        text-align: right;\n",
       "    }\n",
       "</style>\n",
       "<table border=\"1\" class=\"dataframe\">\n",
       "  <thead>\n",
       "    <tr style=\"text-align: right;\">\n",
       "      <th></th>\n",
       "      <th>Misspell</th>\n",
       "      <th>Correct</th>\n",
       "      <th>score</th>\n",
       "    </tr>\n",
       "  </thead>\n",
       "  <tbody>\n",
       "    <tr>\n",
       "      <th>0</th>\n",
       "      <td>adecarboxylate</td>\n",
       "      <td>adecarboxylata</td>\n",
       "      <td>0.904413</td>\n",
       "    </tr>\n",
       "    <tr>\n",
       "      <th>1</th>\n",
       "      <td>chromogens</td>\n",
       "      <td>chromogen</td>\n",
       "      <td>0.936553</td>\n",
       "    </tr>\n",
       "    <tr>\n",
       "      <th>2</th>\n",
       "      <td>flavbacterium</td>\n",
       "      <td>flavobacterium</td>\n",
       "      <td>0.831663</td>\n",
       "    </tr>\n",
       "    <tr>\n",
       "      <th>3</th>\n",
       "      <td>koneensis</td>\n",
       "      <td>koreensis</td>\n",
       "      <td>0.873674</td>\n",
       "    </tr>\n",
       "    <tr>\n",
       "      <th>4</th>\n",
       "      <td>ochrobacterium</td>\n",
       "      <td>ochrobactrum</td>\n",
       "      <td>0.928374</td>\n",
       "    </tr>\n",
       "    <tr>\n",
       "      <th>5</th>\n",
       "      <td>orytihabitans</td>\n",
       "      <td>oryzihabitans</td>\n",
       "      <td>0.900719</td>\n",
       "    </tr>\n",
       "    <tr>\n",
       "      <th>6</th>\n",
       "      <td>papatyphi</td>\n",
       "      <td>paratyphi</td>\n",
       "      <td>0.890885</td>\n",
       "    </tr>\n",
       "    <tr>\n",
       "      <th>7</th>\n",
       "      <td>parpinfluenzae</td>\n",
       "      <td>parainfluenzae</td>\n",
       "      <td>0.860117</td>\n",
       "    </tr>\n",
       "    <tr>\n",
       "      <th>8</th>\n",
       "      <td>pseudodiphthericum</td>\n",
       "      <td>pseudodiphtheriticum</td>\n",
       "      <td>0.929961</td>\n",
       "    </tr>\n",
       "    <tr>\n",
       "      <th>9</th>\n",
       "      <td>shingobacterium</td>\n",
       "      <td>sphingobacterium</td>\n",
       "      <td>0.928626</td>\n",
       "    </tr>\n",
       "    <tr>\n",
       "      <th>10</th>\n",
       "      <td>sstreptococcus</td>\n",
       "      <td>streptococcus</td>\n",
       "      <td>0.946250</td>\n",
       "    </tr>\n",
       "    <tr>\n",
       "      <th>11</th>\n",
       "      <td>stapylococcus</td>\n",
       "      <td>staphylococcus</td>\n",
       "      <td>0.880193</td>\n",
       "    </tr>\n",
       "    <tr>\n",
       "      <th>12</th>\n",
       "      <td>urealyticm</td>\n",
       "      <td>urealyticum</td>\n",
       "      <td>0.842943</td>\n",
       "    </tr>\n",
       "  </tbody>\n",
       "</table>\n",
       "</div>"
      ],
      "text/plain": [
       "              Misspell               Correct     score\n",
       "0       adecarboxylate        adecarboxylata  0.904413\n",
       "1           chromogens             chromogen  0.936553\n",
       "2        flavbacterium        flavobacterium  0.831663\n",
       "3            koneensis             koreensis  0.873674\n",
       "4       ochrobacterium          ochrobactrum  0.928374\n",
       "5        orytihabitans         oryzihabitans  0.900719\n",
       "6            papatyphi             paratyphi  0.890885\n",
       "7       parpinfluenzae        parainfluenzae  0.860117\n",
       "8   pseudodiphthericum  pseudodiphtheriticum  0.929961\n",
       "9      shingobacterium      sphingobacterium  0.928626\n",
       "10      sstreptococcus         streptococcus  0.946250\n",
       "11       stapylococcus        staphylococcus  0.880193\n",
       "12          urealyticm           urealyticum  0.842943"
      ]
     },
     "execution_count": 14,
     "metadata": {},
     "output_type": "execute_result"
    }
   ],
   "source": [
    "# BioWordVec\n",
    "\n",
    "temp=[]\n",
    "for word, mistakes in word_to_mistakes.items():\n",
    "    for mistake in mistakes:\n",
    "        \n",
    "        p_score = bio_model.wv.similarity(word, mistake)\n",
    "        \n",
    "        if mistake != word:\n",
    "            temp.append([word, mistake, p_score])\n",
    "\n",
    "df=pd.DataFrame(temp, columns=[\"Misspell\",\"Correct\",\"score\"])\n",
    "df=df.sort_values([\"Misspell\",\"score\"], ascending=True)\n",
    "df"
   ]
  },
  {
   "cell_type": "code",
   "execution_count": 15,
   "metadata": {},
   "outputs": [
    {
     "data": {
      "text/plain": [
       "0.7128164"
      ]
     },
     "execution_count": 15,
     "metadata": {},
     "output_type": "execute_result"
    }
   ],
   "source": [
    "word = 'choromogenes'\n",
    "mistake = 'chromogens'\n",
    "bio_model.wv.similarity(word, mistake)"
   ]
  },
  {
   "cell_type": "code",
   "execution_count": 16,
   "metadata": {},
   "outputs": [
    {
     "data": {
      "text/plain": [
       "0.47425902"
      ]
     },
     "execution_count": 16,
     "metadata": {},
     "output_type": "execute_result"
    }
   ],
   "source": [
    "word = 'fermentum'\n",
    "mistake = 'ferentum'\n",
    "bio_model.wv.similarity(word, mistake)"
   ]
  },
  {
   "cell_type": "code",
   "execution_count": 17,
   "metadata": {},
   "outputs": [
    {
     "data": {
      "text/plain": [
       "0.42142314"
      ]
     },
     "execution_count": 17,
     "metadata": {},
     "output_type": "execute_result"
    }
   ],
   "source": [
    "word = 'peroris'\n",
    "mistake = 'perosis'\n",
    "bio_model.wv.similarity(word, mistake)"
   ]
  },
  {
   "cell_type": "code",
   "execution_count": 18,
   "metadata": {},
   "outputs": [
    {
     "data": {
      "text/plain": [
       "0.59232664"
      ]
     },
     "execution_count": 18,
     "metadata": {},
     "output_type": "execute_result"
    }
   ],
   "source": [
    "word = 'stackebrandtii'\n",
    "mistake = 'stacherbrandfii'\n",
    "bio_model.wv.similarity(word, mistake)"
   ]
  }
 ],
 "metadata": {
  "hide_input": false,
  "kernelspec": {
   "display_name": "Python 3",
   "language": "python",
   "name": "python3"
  },
  "language_info": {
   "codemirror_mode": {
    "name": "ipython",
    "version": 3
   },
   "file_extension": ".py",
   "mimetype": "text/x-python",
   "name": "python",
   "nbconvert_exporter": "python",
   "pygments_lexer": "ipython3",
   "version": "3.8.5"
  }
 },
 "nbformat": 4,
 "nbformat_minor": 2
}
